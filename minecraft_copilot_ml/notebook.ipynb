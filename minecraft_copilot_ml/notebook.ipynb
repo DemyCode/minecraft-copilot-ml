{
 "cells": [
  {
   "cell_type": "code",
   "execution_count": null,
   "metadata": {},
   "outputs": [],
   "source": [
    "PATH_TO_CSV = '/home/mehdi/minecraft-copilot-ml/output/lightning_logs/version_0/metrics.csv'\n",
    "PATH_TO_MODEL = '/home/mehdi/minecraft-copilot-ml/output/last_model.pth'"
   ]
  },
  {
   "cell_type": "code",
   "execution_count": null,
   "metadata": {},
   "outputs": [],
   "source": [
    "import pandas as pd"
   ]
  },
  {
   "cell_type": "code",
   "execution_count": null,
   "metadata": {},
   "outputs": [],
   "source": [
    "df = pd.read_csv(PATH_TO_CSV)\n",
    "df.columns"
   ]
  },
  {
   "cell_type": "code",
   "execution_count": null,
   "metadata": {},
   "outputs": [],
   "source": [
    "from seaborn import lineplot\n",
    "\n",
    "lineplot(data=df, x='epoch', y='train_loss_epoch', label='train_loss_epoch')\n",
    "lineplot(data=df, x='epoch', y='val_loss_epoch', label='val_loss_epoch')"
   ]
  },
  {
   "cell_type": "code",
   "execution_count": null,
   "metadata": {},
   "outputs": [],
   "source": [
    "from torch import load\n",
    "import numpy as np\n",
    "\n",
    "model = load(PATH_TO_MODEL)\n",
    "block_dict = model.unique_blocks_dict\n",
    "random_map = np.random.randint(0, len(block_dict), (16, 16, 16))\n",
    "random_map = np.vectorize(block_dict.get)(random_map)\n",
    "random_map = np.expand_dims(random_map, axis=0)\n",
    "res = model(random_map)\n"
   ]
  },
  {
   "cell_type": "code",
   "execution_count": null,
   "metadata": {},
   "outputs": [],
   "source": [
    "import torch"
   ]
  },
  {
   "cell_type": "code",
   "execution_count": null,
   "metadata": {},
   "outputs": [],
   "source": [
    "torch.cuda.get_device_name(0)"
   ]
  },
  {
   "cell_type": "code",
   "execution_count": null,
   "metadata": {},
   "outputs": [],
   "source": [
    "\n",
    "import numpy as np\n",
    "a = np.arange(4* 4* 4).reshape(4, 4, 4)\n",
    "np.unique(a, return_counts=True)"
   ]
  },
  {
   "cell_type": "code",
   "execution_count": null,
   "metadata": {},
   "outputs": [],
   "source": [
    "import torch\n",
    "\n",
    "val = torch.rand(2, 12, 16, 16, 16)\n",
    "pred = torch.rand(2, 12, 16, 16, 16)\n",
    "\n",
    "from torch.nn.functional import cross_entropy, softmax\n",
    "\n",
    "res = cross_entropy(softmax(pred, dim=1), val, reduction=\"none\")\n",
    "res2 = cross_entropy(pred, val, reduction=\"none\")\n",
    "res == res2"
   ]
  },
  {
   "cell_type": "code",
   "execution_count": null,
   "metadata": {},
   "outputs": [],
   "source": [
    "from torch import nn\n",
    "\n",
    "ct = nn.ConvTranspose3d(12, 12, 3, stride=2, padding=1, output_padding=1)\n",
    "inop = torch.rand(2, 12, 16, 16, 16)\n",
    "out = ct(inop)\n",
    "out.shape"
   ]
  },
  {
   "cell_type": "code",
   "execution_count": null,
   "metadata": {},
   "outputs": [],
   "source": [
    "from minecraft_copilot_ml.data_loader import nbt_to_numpy_minecraft_map\n",
    "\n",
    "nbt_to_numpy_minecraft_map('/home/mehdi/minecraft-copilot-ml/datasets/minecraft_schematics/18925.litematic')"
   ]
  },
  {
   "cell_type": "code",
   "execution_count": 128,
   "metadata": {},
   "outputs": [
    {
     "name": "stdout",
     "output_type": "stream",
     "text": [
      "range(-20, 1) range(0, 9) range(0, 22)\n",
      "21 9 22\n"
     ]
    }
   ],
   "source": [
    "import gc\n",
    "from pathlib import Path\n",
    "import re\n",
    "import nbtlib\n",
    "import numpy as np\n",
    "from minecraft_copilot_ml.minecraft_pre_flattening_id import default_palette\n",
    "from loguru import logger\n",
    "import json\n",
    "import litemapy\n",
    "from tqdm import tqdm\n",
    "\n",
    "nbt_file = \"/home/mehdi/minecraft-copilot-ml/datasets/minecraft_schematics/20778.litematic\"\n",
    "nbt_loaded = litemapy.Schematic.load(nbt_file)\n",
    "regions = nbt_loaded.regions\n",
    "first_region = regions[list(regions.keys())[0]]\n",
    "width_start = first_region.x\n",
    "width_end = first_region.x + first_region.width\n",
    "width_step = 1 if first_region.width > 0 else -1\n",
    "\n",
    "reg = first_region\n",
    "\n",
    "# Print out the basic shape\n",
    "numpy_map = np.zeros((len(reg.xrange()), len(reg.yrange()), len(reg.zrange())), dtype=object)\n",
    "print(reg.xrange(), reg.yrange(), reg.zrange())\n",
    "print(len(reg.xrange()), len(reg.yrange()), len(reg.zrange()))\n",
    "for x, i in zip(reg.xrange(), range(len(reg.xrange()))):\n",
    "    for y, j in zip(reg.yrange(), range(len(reg.yrange()))):\n",
    "        for z, k in zip(reg.zrange(), range(len(reg.zrange()))):\n",
    "            b = reg.getblock(x, y, z)\n",
    "            numpy_map[i, j, k] = b.blockid"
   ]
  },
  {
   "cell_type": "code",
   "execution_count": 130,
   "metadata": {},
   "outputs": [
    {
     "data": {
      "text/plain": [
       "{'minecraft:air',\n",
       " 'minecraft:chest',\n",
       " 'minecraft:deepslate_brick_slab',\n",
       " 'minecraft:deepslate_brick_wall',\n",
       " 'minecraft:deepslate_bricks',\n",
       " 'minecraft:dirt',\n",
       " 'minecraft:dirt_path',\n",
       " 'minecraft:glass',\n",
       " 'minecraft:hopper',\n",
       " 'minecraft:lava',\n",
       " 'minecraft:oak_trapdoor',\n",
       " 'minecraft:warped_fence_gate',\n",
       " 'minecraft:water',\n",
       " 'minecraft:white_bed'}"
      ]
     },
     "execution_count": 130,
     "metadata": {},
     "output_type": "execute_result"
    }
   ],
   "source": [
    "set(numpy_map.flatten())"
   ]
  },
  {
   "cell_type": "code",
   "execution_count": null,
   "metadata": {},
   "outputs": [],
   "source": []
  }
 ],
 "metadata": {
  "kernelspec": {
   "display_name": ".venv",
   "language": "python",
   "name": "python3"
  },
  "language_info": {
   "codemirror_mode": {
    "name": "ipython",
    "version": 3
   },
   "file_extension": ".py",
   "mimetype": "text/x-python",
   "name": "python",
   "nbconvert_exporter": "python",
   "pygments_lexer": "ipython3",
   "version": "3.10.6"
  }
 },
 "nbformat": 4,
 "nbformat_minor": 2
}
