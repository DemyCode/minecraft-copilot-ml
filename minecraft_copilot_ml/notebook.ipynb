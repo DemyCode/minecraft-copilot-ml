{
 "cells": [
  {
   "cell_type": "code",
   "execution_count": null,
   "metadata": {},
   "outputs": [],
   "source": [
    "PATH_TO_CSV = '/home/mehdi/minecraft-copilot-ml/output/lightning_logs/version_0/metrics.csv'\n",
    "PATH_TO_MODEL = '/home/mehdi/minecraft-copilot-ml/output/last_model.pth'"
   ]
  },
  {
   "cell_type": "code",
   "execution_count": null,
   "metadata": {},
   "outputs": [],
   "source": [
    "import pandas as pd"
   ]
  },
  {
   "cell_type": "code",
   "execution_count": null,
   "metadata": {},
   "outputs": [],
   "source": [
    "df = pd.read_csv(PATH_TO_CSV)\n",
    "df.columns"
   ]
  },
  {
   "cell_type": "code",
   "execution_count": null,
   "metadata": {},
   "outputs": [],
   "source": [
    "from seaborn import lineplot\n",
    "\n",
    "lineplot(data=df, x='epoch', y='train_loss_epoch', label='train_loss_epoch')\n",
    "lineplot(data=df, x='epoch', y='val_loss_epoch', label='val_loss_epoch')"
   ]
  },
  {
   "cell_type": "code",
   "execution_count": null,
   "metadata": {},
   "outputs": [],
   "source": [
    "from torch import load\n",
    "import numpy as np\n",
    "\n",
    "model = load(PATH_TO_MODEL)\n",
    "block_dict = model.unique_blocks_dict\n",
    "random_map = np.random.randint(0, len(block_dict), (16, 16, 16))\n",
    "random_map = np.vectorize(block_dict.get)(random_map)\n",
    "random_map = np.expand_dims(random_map, axis=0)\n",
    "res = model(random_map)\n"
   ]
  },
  {
   "cell_type": "code",
   "execution_count": null,
   "metadata": {},
   "outputs": [],
   "source": [
    "import torch"
   ]
  },
  {
   "cell_type": "code",
   "execution_count": null,
   "metadata": {},
   "outputs": [],
   "source": [
    "torch.cuda.get_device_name(0)"
   ]
  },
  {
   "cell_type": "code",
   "execution_count": null,
   "metadata": {},
   "outputs": [],
   "source": [
    "\n",
    "import numpy as np\n",
    "a = np.arange(4* 4* 4).reshape(4, 4, 4)\n",
    "np.unique(a, return_counts=True)"
   ]
  },
  {
   "cell_type": "code",
   "execution_count": null,
   "metadata": {},
   "outputs": [],
   "source": [
    "import torch\n",
    "\n",
    "val = torch.rand(2, 12, 16, 16, 16)\n",
    "pred = torch.rand(2, 12, 16, 16, 16)\n",
    "\n",
    "from torch.nn.functional import cross_entropy, softmax\n",
    "\n",
    "res = cross_entropy(softmax(pred, dim=1), val, reduction=\"none\")\n",
    "res2 = cross_entropy(pred, val, reduction=\"none\")\n",
    "res == res2"
   ]
  },
  {
   "cell_type": "code",
   "execution_count": null,
   "metadata": {},
   "outputs": [],
   "source": [
    "from torch import nn\n",
    "\n",
    "ct = nn.ConvTranspose3d(12, 12, 3, stride=2, padding=1, output_padding=1)\n",
    "inop = torch.rand(2, 12, 16, 16, 16)\n",
    "out = ct(inop)\n",
    "out.shape"
   ]
  },
  {
   "cell_type": "code",
   "execution_count": null,
   "metadata": {},
   "outputs": [],
   "source": [
    "from minecraft_copilot_ml.data_loader import nbt_to_numpy_minecraft_map\n",
    "\n",
    "nbt_to_numpy_minecraft_map('/home/mehdi/minecraft-copilot-ml/datasets/minecraft_schematics/18925.litematic')"
   ]
  },
  {
   "cell_type": "code",
   "execution_count": null,
   "metadata": {},
   "outputs": [],
   "source": [
    "import gc\n",
    "from pathlib import Path\n",
    "import re\n",
    "import nbtlib\n",
    "import numpy as np\n",
    "from minecraft_copilot_ml.minecraft_pre_flattening_id import default_palette\n",
    "from loguru import logger\n",
    "import json\n",
    "import litemapy\n",
    "from tqdm import tqdm\n",
    "\n",
    "nbt_file = \"/home/mehdi/minecraft-copilot-ml/datasets/minecraft_schematics/20778.litematic\"\n",
    "nbt_loaded = litemapy.Schematic.load(nbt_file)\n",
    "regions = nbt_loaded.regions\n",
    "first_region = regions[list(regions.keys())[0]]\n",
    "width_start = first_region.x\n",
    "width_end = first_region.x + first_region.width\n",
    "width_step = 1 if first_region.width > 0 else -1\n",
    "\n",
    "reg = first_region\n",
    "\n",
    "# Print out the basic shape\n",
    "numpy_map = np.zeros((len(reg.xrange()), len(reg.yrange()), len(reg.zrange())), dtype=object)\n",
    "print(reg.xrange(), reg.yrange(), reg.zrange())\n",
    "print(len(reg.xrange()), len(reg.yrange()), len(reg.zrange()))\n",
    "for x, i in zip(reg.xrange(), range(len(reg.xrange()))):\n",
    "    for y, j in zip(reg.yrange(), range(len(reg.yrange()))):\n",
    "        for z, k in zip(reg.zrange(), range(len(reg.zrange()))):\n",
    "            b = reg.getblock(x, y, z)\n",
    "            numpy_map[i, j, k] = b.blockid"
   ]
  },
  {
   "cell_type": "code",
   "execution_count": null,
   "metadata": {},
   "outputs": [],
   "source": [
    "set(numpy_map.flatten())"
   ]
  },
  {
   "cell_type": "code",
   "execution_count": null,
   "metadata": {},
   "outputs": [],
   "source": [
    "import numpy as np\n",
    "np.random.randint(0, 8)"
   ]
  },
  {
   "cell_type": "code",
   "execution_count": null,
   "metadata": {},
   "outputs": [],
   "source": [
    "# -*- coding: utf-8 -*-\n",
    "import numpy as np\n",
    "import math\n",
    "\n",
    "# Create random input and output data\n",
    "x = np.linspace(-math.pi, math.pi, 2000)\n",
    "y = np.sin(x)\n",
    "\n",
    "# Randomly initialize weights\n",
    "a = np.random.randn()\n",
    "b = np.random.randn()\n",
    "c = np.random.randn()\n",
    "d = np.random.randn()\n",
    "\n",
    "learning_rate = 1e-6\n",
    "for t in range(2000):\n",
    "    # Forward pass: compute predicted y\n",
    "    # y = a + b x + c x^2 + d x^3\n",
    "    y_pred = a + b * x + c * x ** 2 + d * x ** 3\n",
    "\n",
    "    # Compute and print loss\n",
    "    loss = np.square(y_pred - y).sum()\n",
    "    if t % 100 == 99:\n",
    "        print(t, loss)\n",
    "\n",
    "    # Backprop to compute gradients of a, b, c, d with respect to loss\n",
    "    grad_y_pred = 2.0 * (y_pred - y)\n",
    "    grad_a = grad_y_pred.sum()\n",
    "    grad_b = (grad_y_pred * x).sum()\n",
    "    grad_c = (grad_y_pred * x ** 2).sum()\n",
    "    grad_d = (grad_y_pred * x ** 3).sum()\n",
    "\n",
    "    # Update weights\n",
    "    a -= learning_rate * grad_a\n",
    "    b -= learning_rate * grad_b\n",
    "    c -= learning_rate * grad_c\n",
    "    d -= learning_rate * grad_d\n",
    "\n",
    "print(f'Result: y = {a} + {b} x + {c} x^2 + {d} x^3')"
   ]
  },
  {
   "cell_type": "code",
   "execution_count": null,
   "metadata": {},
   "outputs": [],
   "source": []
  },
  {
   "cell_type": "code",
   "execution_count": null,
   "metadata": {},
   "outputs": [],
   "source": [
    "import matplotlib.pyplot as plt\n",
    "import numpy as np\n",
    "\n",
    "np.random.seed(19680801)\n",
    "data = np.random.random((50, 50, 50))\n",
    "\n",
    "fig, ax = plt.subplots()\n",
    "\n",
    "for i, img in enumerate(data):\n",
    "    ax.clear()\n",
    "    ax.imshow(img)\n",
    "    ax.set_title(f\"frame {i}\")\n",
    "    # Note that using time.sleep does *not* work here!\n",
    "    plt.pause(0.1)"
   ]
  },
  {
   "cell_type": "code",
   "execution_count": 21,
   "metadata": {},
   "outputs": [
    {
     "data": {
      "application/vnd.jupyter.widget-view+json": {
       "model_id": "2cd2aabfc6c64fea917f28606599c8ba",
       "version_major": 2,
       "version_minor": 0
      },
      "image/png": "[encoded data removed]",
      "text/html": [
       "\n",
       "            <div style=\"display: inline-block;\">\n",
       "                <div class=\"jupyter-widgets widget-label\" style=\"text-align: center;\">\n",
       "                    Figure\n",
       "                </div>\n",
       "                <img src='data:image/png;base64,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' width=640.0/>\n",
       "            </div>\n",
       "        "
      ],
      "text/plain": [
       "Canvas(toolbar=Toolbar(toolitems=[('Home', 'Reset original view', 'home', 'home'), ('Back', 'Back to previous …"
      ]
     },
     "metadata": {},
     "output_type": "display_data"
    },
    {
     "name": "stdout",
     "output_type": "stream",
     "text": [
      "data coords 0.8067701612903226 0.591666666666667, pixel coords 470 337\n",
      "data coords 0.8067701612903226 0.5380952380952384, pixel coords 470 328\n",
      "data coords 0.8045745967741935 0.5380952380952384, pixel coords 469 328\n",
      "data coords 0.7518810483870968 0.5380952380952384, pixel coords 445 328\n",
      "data coords 0.7299254032258066 0.5380952380952384, pixel coords 435 328\n",
      "data coords 0.6969919354838711 0.5321428571428575, pixel coords 420 327\n",
      "data coords 0.628929435483871 0.5380952380952384, pixel coords 389 328\n",
      "data coords 0.624538306451613 0.216666666666667, pixel coords 387 274\n",
      "data coords 0.6091693548387097 0.22857142857142887, pixel coords 380 276\n",
      "data coords 0.554280241935484 0.2880952380952384, pixel coords 355 286\n",
      "data coords 0.5147600806451613 0.31190476190476213, pixel coords 337 290\n",
      "data coords 0.47304435483870977 0.3178571428571433, pixel coords 318 291\n",
      "data coords 0.4137641129032259 0.3178571428571433, pixel coords 291 291\n",
      "data coords 0.3698528225806452 0.3178571428571433, pixel coords 271 291\n",
      "data coords 0.31057258064516136 0.31190476190476213, pixel coords 244 290\n",
      "data coords 0.2556834677419355 0.29404761904761934, pixel coords 219 287\n",
      "data coords 0.22933669354838715 0.2880952380952384, pixel coords 207 286\n",
      "data coords 0.2073810483870968 0.27619047619047654, pixel coords 197 284\n",
      "data coords 0.19640322580645164 0.25833333333333375, pixel coords 192 281\n",
      "data coords 0.1810342741935484 0.22261904761904794, pixel coords 185 275\n",
      "data coords 0.17883870967741938 0.216666666666667, pixel coords 184 274\n",
      "data coords 0.12834072580645162 0.1452380952380956, pixel coords 161 262\n",
      "data coords 0.09979838709677424 -0.0035714285714283367, pixel coords 148 237\n",
      "data coords 0.08882056451612907 -0.0154761904761902, pixel coords 143 235\n",
      "data coords 0.08223387096774193 -0.02738095238095206, pixel coords 140 233\n",
      "data coords 0.05588709677419357 -0.09285714285714253, pixel coords 128 222\n",
      "data coords 0.04271370967741939 -0.2773809523809523, pixel coords 122 191\n",
      "data coords 0.04271370967741939 -0.2833333333333332, pixel coords 122 190\n",
      "data coords 0.04051814516129032 -0.2833333333333332, pixel coords 121 190\n",
      "data coords 0.03832258064516131 -0.3666666666666665, pixel coords 120 176\n",
      "data coords 0.03832258064516131 -0.5095238095238094, pixel coords 120 152\n",
      "data coords 0.03832258064516131 -0.5154761904761903, pixel coords 120 151\n",
      "data coords 0.03832258064516131 -0.5214285714285714, pixel coords 120 150\n",
      "data coords 0.03832258064516131 -0.5511904761904761, pixel coords 120 145\n",
      "data coords 0.04271370967741939 -0.6642857142857141, pixel coords 122 126\n",
      "data coords 0.9428951612903227 -0.11071428571428554, pixel coords 532 219\n",
      "data coords 0.6157560483870969 0.13928571428571468, pixel coords 383 261\n",
      "data coords 0.3215504032258065 0.3238095238095242, pixel coords 249 292\n",
      "data coords 0.284225806451613 0.341666666666667, pixel coords 232 295\n",
      "data coords 0.28203024193548387 0.34761904761904794, pixel coords 231 296\n",
      "disconnecting callback\n",
      "disconnecting callback\n",
      "disconnecting callback\n"
     ]
    }
   ],
   "source": [
    "%matplotlib ipympl\n",
    "import matplotlib.pyplot as plt\n",
    "import numpy as np\n",
    "\n",
    "from matplotlib.backend_bases import MouseButton\n",
    "\n",
    "t = np.arange(0.0, 1.0, 0.01)\n",
    "s = np.sin(2 * np.pi * t)\n",
    "fig, ax = plt.subplots()\n",
    "ax.plot(t, s)\n",
    "\n",
    "\n",
    "def on_move(event):\n",
    "    if event.inaxes:\n",
    "        print(f'data coords {event.xdata} {event.ydata},',\n",
    "              f'pixel coords {event.x} {event.y}')\n",
    "\n",
    "\n",
    "def on_click(event):\n",
    "    if event.button is MouseButton.LEFT:\n",
    "        print('disconnecting callback')\n",
    "        plt.disconnect(binding_id)\n",
    "\n",
    "\n",
    "binding_id = plt.connect('motion_notify_event', on_move)\n",
    "plt.connect('button_press_event', on_click)\n",
    "\n",
    "plt.show()"
   ]
  },
  {
   "cell_type": "code",
   "execution_count": null,
   "metadata": {},
   "outputs": [],
   "source": []
  }
 ],
 "metadata": {
  "kernelspec": {
   "display_name": ".venv",
   "language": "python",
   "name": "python3"
  },
  "language_info": {
   "codemirror_mode": {
    "name": "ipython",
    "version": 3
   },
   "file_extension": ".py",
   "mimetype": "text/x-python",
   "name": "python",
   "nbconvert_exporter": "python",
   "pygments_lexer": "ipython3",
   "version": "3.10.6"
  }
 },
 "nbformat": 4,
 "nbformat_minor": 2
}
