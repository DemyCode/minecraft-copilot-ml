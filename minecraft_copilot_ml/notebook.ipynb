{
 "cells": [
  {
   "cell_type": "code",
   "execution_count": null,
   "metadata": {},
   "outputs": [],
   "source": [
    "import pandas as pd\n",
    "import numpy as np"
   ]
  },
  {
   "cell_type": "code",
   "execution_count": null,
   "metadata": {},
   "outputs": [],
   "source": [
    "pd_csv = pd.read_csv(\"C:\\\\Users\\\\veryc\\\\Desktop\\\\Work\\\\minecraft-autocomplete-scripts\\\\minecraft_schematics (2).csv\")\n",
    "pd_csv.shape"
   ]
  },
  {
   "cell_type": "code",
   "execution_count": null,
   "metadata": {},
   "outputs": [],
   "source": [
    "pd_csv = pd_csv.dropna(subset=[\"file_format\"])\n",
    "pd_csv.shape"
   ]
  },
  {
   "cell_type": "code",
   "execution_count": null,
   "metadata": {},
   "outputs": [],
   "source": [
    "pd_csv[\"download_schematic_selector-href\"].iloc[0]"
   ]
  },
  {
   "cell_type": "code",
   "execution_count": null,
   "metadata": {},
   "outputs": [],
   "source": [
    "import time\n",
    "import os.path\n",
    "from selenium import webdriver\n",
    "from selenium.webdriver.chrome.service import Service\n",
    "from selenium.webdriver.common.by import By\n",
    "from selenium.webdriver.chrome.options import Options\n",
    "\n",
    "# Set up Chrome options\n",
    "chrome_options = Options()\n",
    "# chrome_options.add_argument(\"--headless\")  # Run Chrome in headless mode\n",
    "# chrome_options.add_argument(\"--disable-gpu\")\n",
    "# chrome_options.add_argument(\"--no-sandbox\")\n",
    "\n",
    "# Set path to chromedriver as per your configuration\n",
    "# homedir = os.path.expanduser(\"~\")\n",
    "# webdriver_service = Service(f\"{homedir}/chromedriver/stable/chromedriver\")\n",
    "download_dir = f\"C:\\\\Users\\\\veryc\\\\Desktop\\\\Work\\\\minecraft-autocomplete-scripts\\\\wassim-showcase\"\n",
    "\n",
    "prefs = {\n",
    "    \"download.default_directory\": download_dir,\n",
    "    \"download.prompt_for_download\": False,\n",
    "    \"download.directory_upgrade\": True,\n",
    "    \"safebrowsing.enabled\": True,\n",
    "    \"profile.default_content_setting_values.cookies\": 1,  # 1:allow, 2:block\n",
    "    \"profile.block_third_party_cookies\": False,\n",
    "    # \"profile.default_content_setting_values.cookies\": 1,  # 1:allow, 2:block\n",
    "    # \"profile.block_third_party_cookies\": True,\n",
    "    # // block all cookies\n",
    "    # \"profile.default_content_setting_values.cookies\": 2,  # 1:allow, 2:block\n",
    "    # \"profile.block_third_party_cookies\": True,\n",
    "}\n",
    "chrome_options.add_experimental_option(\"prefs\", prefs)\n",
    "\n",
    "# Choose Chrome Browser\n",
    "# webdriver_service = Service(f\"{homedir}/chromedriver/stable/chromedriver\")\n",
    "browser = webdriver.Chrome(options=chrome_options)\n",
    "browser.get(\"https://www.minecraft-schematics.com\")"
   ]
  },
  {
   "cell_type": "code",
   "execution_count": null,
   "metadata": {},
   "outputs": [],
   "source": [
    "for i in range(19448):\n",
    "    browser.get(f\"https://www.minecraft-schematics.com/schematic/{i}/download/action/?type=schematic\")\n"
   ]
  },
  {
   "cell_type": "code",
   "execution_count": null,
   "metadata": {},
   "outputs": [],
   "source": [
    "browser.quit()\n"
   ]
  },
  {
   "cell_type": "code",
   "execution_count": null,
   "metadata": {},
   "outputs": [],
   "source": [
    "pd_csv"
   ]
  },
  {
   "cell_type": "code",
   "execution_count": null,
   "metadata": {},
   "outputs": [],
   "source": []
  }
 ],
 "metadata": {
  "kernelspec": {
   "display_name": ".venv",
   "language": "python",
   "name": "python3"
  },
  "language_info": {
   "codemirror_mode": {
    "name": "ipython",
    "version": 3
   },
   "file_extension": ".py",
   "mimetype": "text/x-python",
   "name": "python",
   "nbconvert_exporter": "python",
   "pygments_lexer": "ipython3",
   "version": "3.11.3"
  },
  "orig_nbformat": 4
 },
 "nbformat": 4,
 "nbformat_minor": 2
}
