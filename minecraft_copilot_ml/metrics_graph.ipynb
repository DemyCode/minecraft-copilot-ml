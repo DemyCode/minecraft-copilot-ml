{
 "cells": [
  {
   "cell_type": "code",
   "execution_count": null,
   "metadata": {},
   "outputs": [],
   "source": [
    "PATH_TO_CSV = \"/home/mehdi/minecraft-copilot-ml/output/lightning_logs/version_0/metrics.csv\"\n",
    "PATH_TO_BEST_MODEL = \"/home/mehdi/minecraft-copilot-ml/output/best_model.pth\""
   ]
  },
  {
   "cell_type": "code",
   "execution_count": null,
   "metadata": {},
   "outputs": [],
   "source": [
    "import os\n",
    "from seaborn import lineplot\n",
    "import pandas as pd\n",
    "\n",
    "from matplotlib import pyplot as plt\n",
    "\n",
    "metrics = [\"loss\", \"reconstruction_loss\", \"kl_divergence\", \"accuracy\"]\n",
    "fig, ax = plt.subplots(2, len(metrics), figsize=(20, 10))\n",
    "\n",
    "if os.path.exists(PATH_TO_CSV):\n",
    "    df = pd.read_csv(PATH_TO_CSV)\n",
    "    for i, metric in enumerate(metrics):\n",
    "        lineplot(data=df, x=\"epoch\", y=f\"train_{metric}_epoch\", ax=ax[0, i], label=f\"train_{metric}_epoch\")\n",
    "        lineplot(data=df, x=\"epoch\", y=f\"val_{metric}_epoch\", ax=ax[0, i], label=f\"val_{metric}_epoch\")\n",
    "        lineplot(data=df, x=\"epoch\", y=f\"train_{metric}_epoch\", ax=ax[1, i], label=f\"train_{metric}_epoch\")\n",
    "        lineplot(data=df, x=\"epoch\", y=f\"val_{metric}_epoch\", ax=ax[1, i], label=f\"val_{metric}_epoch\")\n",
    "        ax[0, i].set(yscale=\"log\")\n",
    "        ax[1, i].set(yscale=\"linear\")\n",
    "else:\n",
    "    print(f\"File {PATH_TO_CSV} not found\")"
   ]
  },
  {
   "cell_type": "code",
   "execution_count": null,
   "metadata": {},
   "outputs": [],
   "source": [
    "from typing import Any\n",
    "from matplotlib import pyplot as plt\n",
    "import numpy as np\n",
    "from minecraft_copilot_ml.data_loader import (\n",
    "    get_working_files_and_unique_blocks_and_counts,\n",
    "    list_schematic_files_in_folder,\n",
    ")\n",
    "import matplotlib.cm as cm\n",
    "\n",
    "colors_palette = cm.get_cmap(\"tab10\").colors\n",
    "\n",
    "from minecraft_copilot_ml.train import MinecraftSchematicsDataset\n",
    "\n",
    "\n",
    "def display_voxels(voxel: np.ndarray, zero_block: Any = 0):\n",
    "    ax = plt.figure().add_subplot(projection=\"3d\")\n",
    "    unique_values = set(np.unique(voxel))\n",
    "\n",
    "    colors = np.empty(voxel.shape, dtype=object)\n",
    "    for i, value in enumerate(unique_values):\n",
    "        colors[voxel == value] = {colors_palette[i % len(colors_palette)]}\n",
    "    ax.voxels(voxel != zero_block, facecolors=colors)\n",
    "    plt.show()\n",
    "\n",
    "\n",
    "schematics_list_files = list_schematic_files_in_folder(\"/home/mehdi/minecraft-copilot-ml/datasets/kleine_hutte_dataset\")\n",
    "unique_blocks_dict, unique_counts_coefficients, loaded_schematic_files = get_working_files_and_unique_blocks_and_counts(\n",
    "    schematics_list_files\n",
    ")\n",
    "dataset = MinecraftSchematicsDataset(loaded_schematic_files)"
   ]
  },
  {
   "cell_type": "code",
   "execution_count": null,
   "metadata": {},
   "outputs": [],
   "source": [
    "from minecraft_copilot_ml.data_loader import nbt_to_numpy_minecraft_map\n",
    "\n",
    "minecraft_map = nbt_to_numpy_minecraft_map(schematics_list_files[0])\n",
    "display_voxels(minecraft_map, zero_block=\"minecraft:air\")"
   ]
  },
  {
   "cell_type": "code",
   "execution_count": null,
   "metadata": {},
   "outputs": [],
   "source": [
    "from typing import Any\n",
    "block_map, noisy_block_map, mask = dataset[0]\n",
    "\n",
    "display_voxels(block_map, zero_block=\"minecraft:air\")\n",
    "display_voxels(noisy_block_map, zero_block=\"minecraft:air\")\n",
    "display_voxels(mask, zero_block=0)"
   ]
  },
  {
   "cell_type": "code",
   "execution_count": null,
   "metadata": {},
   "outputs": [],
   "source": [
    "import torch\n",
    "import torch.nn.functional as F\n",
    "\n",
    "model = torch.load(PATH_TO_BEST_MODEL)\n",
    "\n",
    "pre_processed_noisy_block_map = model.pre_process(np.expand_dims(noisy_block_map, axis=0)).unsqueeze(0).float()\n",
    "reconstruction, mean, log_variance = model(pre_processed_noisy_block_map)\n",
    "post_processed_filled_block_map = model.post_process(reconstruction.to(\"cpu\"))\n",
    "squeezed_post_processed = post_processed_filled_block_map[0]"
   ]
  },
  {
   "cell_type": "code",
   "execution_count": null,
   "metadata": {},
   "outputs": [],
   "source": [
    "display_voxels(squeezed_post_processed, zero_block=\"minecraft:air\")"
   ]
  },
  {
   "cell_type": "code",
   "execution_count": null,
   "metadata": {},
   "outputs": [],
   "source": [
    "squeezed_post_processed"
   ]
  },
  {
   "cell_type": "code",
   "execution_count": null,
   "metadata": {},
   "outputs": [],
   "source": []
  }
 ],
 "metadata": {
  "kernelspec": {
   "display_name": ".venv",
   "language": "python",
   "name": "python3"
  },
  "language_info": {
   "codemirror_mode": {
    "name": "ipython",
    "version": 3
   },
   "file_extension": ".py",
   "mimetype": "text/x-python",
   "name": "python",
   "nbconvert_exporter": "python",
   "pygments_lexer": "ipython3",
   "version": "3.10.6"
  }
 },
 "nbformat": 4,
 "nbformat_minor": 2
}
